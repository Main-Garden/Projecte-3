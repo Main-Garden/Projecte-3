{
 "cells": [
  {
   "cell_type": "code",
   "execution_count": 15,
   "id": "f343fd45",
   "metadata": {},
   "outputs": [],
   "source": [
    "import pyautogui \n",
    "import pyperclip \n",
    "import time\n",
    "\n",
    "pyautogui.PAUSE = 1\n",
    "\n",
    "# objetivo: abrir o ultimo capitulo do manga\n",
    "# Passo 1: abrir nova guia\n",
    "pyautogui.hotkey(\"ctrl\", \"t\")\n",
    "\n",
    "# Passo 2: colar link\n",
    "# (link: https://unionleitor.top/manga/oroka-na-tenshi-wa-akuma-to-odoru )\n",
    "pyperclip.copy(\"https://unionleitor.top/manga/oroka-na-tenshi-wa-akuma-to-odoru\")\n",
    "pyautogui.hotkey(\"ctrl\", \"v\")\n",
    "\n",
    "# Passo 3: entrar no site\n",
    "pyautogui.press(\"enter\")\n",
    "\n",
    "# Passo 4: esperar um tempo\n",
    "time.sleep(7)\n",
    "\n",
    "# Passo 5: clicar no capitulo\n",
    "pyautogui.click(x=573, y=787)\n",
    "\n",
    "#espera carregamento\n",
    "time.sleep(7)\n",
    "\n",
    "#Passo 6: fechar anuncio\n",
    "pyautogui.click(x=22, y=892)\n"
   ]
  },
  {
   "cell_type": "code",
   "execution_count": 14,
   "id": "a8c57e24",
   "metadata": {},
   "outputs": [
    {
     "data": {
      "text/plain": [
       "Point(x=22, y=892)"
      ]
     },
     "execution_count": 14,
     "metadata": {},
     "output_type": "execute_result"
    }
   ],
   "source": [
    "time.sleep(7)\n",
    "pyautogui.position()"
   ]
  },
  {
   "cell_type": "code",
   "execution_count": null,
   "id": "5ca9c651",
   "metadata": {},
   "outputs": [],
   "source": [
    "\n"
   ]
  },
  {
   "cell_type": "code",
   "execution_count": null,
   "id": "e0370d29",
   "metadata": {},
   "outputs": [],
   "source": []
  }
 ],
 "metadata": {
  "kernelspec": {
   "display_name": "Python 3 (ipykernel)",
   "language": "python",
   "name": "python3"
  },
  "language_info": {
   "codemirror_mode": {
    "name": "ipython",
    "version": 3
   },
   "file_extension": ".py",
   "mimetype": "text/x-python",
   "name": "python",
   "nbconvert_exporter": "python",
   "pygments_lexer": "ipython3",
   "version": "3.9.12"
  }
 },
 "nbformat": 4,
 "nbformat_minor": 5
}
